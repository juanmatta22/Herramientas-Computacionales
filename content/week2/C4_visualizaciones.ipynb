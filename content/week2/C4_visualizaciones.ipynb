{
 "cells": [
  {
   "attachments": {},
   "cell_type": "markdown",
   "metadata": {},
   "source": [
    "# IMEC2001 Herramientas Computacionales \n",
    "## Semana 2: Datos y Visualizaciones\n",
    "### Clase 4: `matplotlib`\n",
    "\n",
    "Universidad de los Andes — Abril 14, 2023.\n",
    "\n",
    "---\n",
    "\n",
    "## TABLA DE CONTENIDO\n",
    "\n",
    "### Sección 1: Visualizaciones con `matplotlib` [→](#section1)\n",
    "- 1.1. Cargar Librerías\n",
    "- 1.2. Primeros Pasos: `plot` y `scatter`\n",
    "- 1.3. Colores, Marcadores y Estilos\n",
    "- 1.4. Ejes y Leyenda\n",
    "- 1.5. Otras Adiciones\n",
    "- 1.6. Gráfica de Barras  \n",
    "- 1.7. Gráfica log-log\n",
    "- 1.8. Histogramas\n",
    "___"
   ]
  },
  {
   "cell_type": "markdown",
   "metadata": {},
   "source": [
    "<a id=\"section1\"></a>\n",
    "# Sección 1: Visualizaciones con `matplotlib`"
   ]
  },
  {
   "cell_type": "code",
   "execution_count": null,
   "metadata": {},
   "outputs": [],
   "source": [
    "!pip install matplotlib"
   ]
  },
  {
   "cell_type": "markdown",
   "metadata": {},
   "source": [
    "## 1.1. Cargar Librerías\n",
    "\n",
    "Primero, asegurémonos de haber instalado la librería:\n",
    "\n",
    "> ```python\n",
    "  pip install matplotlib\n",
    "  ```"
   ]
  },
  {
   "cell_type": "code",
   "execution_count": null,
   "metadata": {},
   "outputs": [],
   "source": [
    "%matplotlib inline\n",
    "import matplotlib.pyplot as plt"
   ]
  },
  {
   "cell_type": "markdown",
   "metadata": {},
   "source": [
    "Notemos que `as plt` es un *alias* con la que nos referiremos a la librería `matplotlib`. Este *alias* puede ser cualquiera, pero por convención utilizaremos `as plt`."
   ]
  },
  {
   "cell_type": "markdown",
   "metadata": {},
   "source": [
    "## 1.2. Primeros Pasos: `plot` y `scatter`"
   ]
  },
  {
   "cell_type": "code",
   "execution_count": null,
   "metadata": {},
   "outputs": [],
   "source": [
    "import numpy as np"
   ]
  },
  {
   "cell_type": "code",
   "execution_count": null,
   "metadata": {
    "scrolled": true
   },
   "outputs": [],
   "source": [
    "x = np.linspace(0, 2*np.pi, 50) # start, finish, number of points\n",
    "x"
   ]
  },
  {
   "cell_type": "code",
   "execution_count": null,
   "metadata": {},
   "outputs": [],
   "source": [
    "y = np.sin(x)\n",
    "y"
   ]
  },
  {
   "cell_type": "code",
   "execution_count": null,
   "metadata": {},
   "outputs": [],
   "source": [
    "plt.plot(x, y)"
   ]
  },
  {
   "cell_type": "code",
   "execution_count": null,
   "metadata": {},
   "outputs": [],
   "source": [
    "z = np.cos(x)\n",
    "z"
   ]
  },
  {
   "cell_type": "code",
   "execution_count": null,
   "metadata": {},
   "outputs": [],
   "source": [
    "plt.scatter(x, z)"
   ]
  },
  {
   "cell_type": "markdown",
   "metadata": {},
   "source": [
    "Fijémonos en que ambas gráficas tienen la misma sintaxis: `plt.<gráfica>(<eje x>, <eje y>)`. Si la gráfica es:\n",
    "\n",
    "- `plt.plot`, obtenemos una línea contínua.\n",
    "- `plt.scatter`, obtenemos puntos (i.e., no contínuo)."
   ]
  },
  {
   "cell_type": "markdown",
   "metadata": {},
   "source": [
    "Ahora bien, si tenemos las dos gráficas en una misma celda, Jupyter Notebook interpreta que estas van juntas en un mismo recuadro."
   ]
  },
  {
   "cell_type": "code",
   "execution_count": null,
   "metadata": {},
   "outputs": [],
   "source": [
    "plt.plot(x, y)\n",
    "plt.scatter(x, z)"
   ]
  },
  {
   "cell_type": "markdown",
   "metadata": {},
   "source": [
    "Para separarlas, debemos indicar que se tienen **figuras** diferentes con el código `plt.figure()`. Notemos que en una misma celda (esto en Jupyter Notebook), me despliega las dos gráficas por separado."
   ]
  },
  {
   "cell_type": "code",
   "execution_count": null,
   "metadata": {},
   "outputs": [],
   "source": [
    "# Gráfica 1\n",
    "plt.figure()\n",
    "plt.plot(x, y)\n",
    "\n",
    "# Gráfica 2\n",
    "plt.figure()\n",
    "plt.scatter(x, z)"
   ]
  },
  {
   "cell_type": "markdown",
   "metadata": {},
   "source": [
    "**Nota:** Con `plt.figure()` también podemos establecer el tamaño de la gráfica."
   ]
  },
  {
   "cell_type": "code",
   "execution_count": null,
   "metadata": {},
   "outputs": [],
   "source": [
    "# Gráfica 1\n",
    "hor = 10\n",
    "ver = 4\n",
    "\n",
    "plt.figure(figsize=(hor,ver)) # Tamaño\n",
    "\n",
    "plt.plot(x, y)\n",
    "\n",
    "# Gráfica 2\n",
    "hor = 3\n",
    "ver = 6\n",
    "\n",
    "plt.figure(figsize=(hor,ver)) # Tamaño\n",
    "\n",
    "plt.scatter(x, z)"
   ]
  },
  {
   "cell_type": "markdown",
   "metadata": {},
   "source": [
    "## 1.3. Colores, Marcadores y Estilos\n",
    "\n",
    "Tomemos las dos gráficas anteriores en un mismo recuadro. ¿Qué opinan?"
   ]
  },
  {
   "cell_type": "code",
   "execution_count": null,
   "metadata": {},
   "outputs": [],
   "source": [
    "plt.plot(x, y)\n",
    "plt.scatter(x, z)"
   ]
  },
  {
   "cell_type": "markdown",
   "metadata": {},
   "source": [
    "Para mejorar la visualización, podemos empezar modificando el **color** de las gráficas con el parámetro `color`.\n",
    "\n",
    "<div class='alert alert-block alert-info'>   \n",
    "    \n",
    "<i class='fa fa-info-circle' aria-hidden='true'></i>\n",
    "Puede obtener más información en la documentación oficial de la librería `matplotlib` dando clic [aquí](https://matplotlib.org/stable/gallery/color/named_colors.html).\n",
    "</div>"
   ]
  },
  {
   "cell_type": "code",
   "execution_count": null,
   "metadata": {},
   "outputs": [],
   "source": [
    "plt.plot(x, y, color='darkorange')\n",
    "plt.scatter(x, z, color='teal')"
   ]
  },
  {
   "cell_type": "markdown",
   "metadata": {},
   "source": [
    "También podemos modificar el estilo de línea (para `plt.plot`).\n",
    "\n",
    "<div class='alert alert-block alert-info'>   \n",
    "    \n",
    "<i class='fa fa-info-circle' aria-hidden='true'></i>\n",
    "Puede obtener más información en la documentación oficial de la librería `matplotlib` dando clic [aquí](https://matplotlib.org/stable/gallery/lines_bars_and_markers/linestyles.html).\n",
    "</div>\n",
    "\n",
    "Al igual que podemos modificar los marcadores (para `plt.scatter`).\n",
    "\n",
    "<div class='alert alert-block alert-info'>   \n",
    "    \n",
    "<i class='fa fa-info-circle' aria-hidden='true'></i>\n",
    "Puede obtener más información en la documentación oficial de la librería `matplotlib` dando clic [aquí](https://matplotlib.org/stable/api/markers_api.html).\n",
    "</div>"
   ]
  },
  {
   "cell_type": "code",
   "execution_count": null,
   "metadata": {},
   "outputs": [],
   "source": [
    "plt.plot(x, y, color='darkorange', linestyle='dashed', linewidth=5) # Note el parámetro linewidth\n",
    "plt.scatter(x, z, color='teal', marker='^')"
   ]
  },
  {
   "cell_type": "markdown",
   "metadata": {},
   "source": [
    "**Nota:** Las posibilidades de `plt.scatter` la tenemos desde `plt.plot`, por ejemplo:"
   ]
  },
  {
   "cell_type": "code",
   "execution_count": null,
   "metadata": {},
   "outputs": [],
   "source": [
    "plt.plot(x, z, color='teal', linestyle='', marker='^') # Note el parámetro linestyle=''"
   ]
  },
  {
   "cell_type": "markdown",
   "metadata": {},
   "source": [
    "También con `plt.plot` podemos unir líneas continuas con marcadores, así:"
   ]
  },
  {
   "cell_type": "code",
   "execution_count": null,
   "metadata": {},
   "outputs": [],
   "source": [
    "plt.plot(x, y, color='darkorange', linestyle='dashed', linewidth=2, marker='o') # Note el parámetro linewidth"
   ]
  },
  {
   "cell_type": "markdown",
   "metadata": {},
   "source": [
    "## 1.4. Ejes y Leyenda\n",
    "\n",
    "Empecemos definiendo el título de la gráfica y de los ejes. Para esto, utilizamos las funciones:\n",
    "\n",
    "- `plt.title()`\n",
    "- `plt.ylabel()`\n",
    "- `plt.xlabel()`"
   ]
  },
  {
   "cell_type": "code",
   "execution_count": null,
   "metadata": {},
   "outputs": [],
   "source": [
    "hor = 8\n",
    "ver = 5\n",
    "plt.figure(figsize=(hor, ver))\n",
    "\n",
    "plt.plot(x, y, color='darkorange', linestyle='dashed', linewidth=5)\n",
    "plt.plot(x, z, color='teal', linestyle='', marker='^')\n",
    "\n",
    "plt.title('Comportamiento Curvas', fontsize=15) # Título\n",
    "plt.ylabel('Magnitud [ad.]', fontsize=13) # Etiqueta eje vertical\n",
    "plt.xlabel('Ángulo [º]', fontsize=13) # Etiqueta eje horizontal"
   ]
  },
  {
   "cell_type": "markdown",
   "metadata": {},
   "source": [
    "Ahora, agreguemos una etiqueta y leyenda para las curvas. Esto es agregando el parámetro `label` en `plt.plot`."
   ]
  },
  {
   "cell_type": "code",
   "execution_count": null,
   "metadata": {},
   "outputs": [],
   "source": [
    "hor = 8\n",
    "ver = 5\n",
    "plt.figure(figsize=(hor, ver))\n",
    "\n",
    "plt.plot(x, y, color='darkorange', linestyle='dashed', linewidth=5, label='sin(x)') # Note el parámetro label\n",
    "plt.plot(x, z, color='teal', linestyle='', marker='^', label='cos(x)') # Note el parámetro label\n",
    "\n",
    "plt.title('Comportamiento Curvas', fontsize=15)\n",
    "plt.ylabel('Magnitud [ad.]', fontsize=13)\n",
    "plt.xlabel('Ángulo [º]', fontsize=13)\n",
    "plt.legend(loc='best', fontsize=11) # Note el parámetro 'loc'"
   ]
  },
  {
   "cell_type": "markdown",
   "metadata": {},
   "source": [
    "## 1.5. Otras Adiciones\n",
    "\n",
    "¿Qué hay de nuevo entre esta y la celda anterior?\n",
    "\n",
    "<div class='alert alert-block alert-info'>   \n",
    "    \n",
    "<i class='fa fa-info-circle' aria-hidden='true'></i>\n",
    "Puede obtener más información en la documentación oficial de la librería `matplotlib` dando clic [aquí](https://matplotlib.org/stable/tutorials/index.html).\n",
    "</div>"
   ]
  },
  {
   "cell_type": "code",
   "execution_count": null,
   "metadata": {},
   "outputs": [],
   "source": [
    "hor = 8\n",
    "ver = 5\n",
    "plt.figure(figsize=(hor, ver))\n",
    "\n",
    "plt.plot(x, y, color='darkorange', linestyle='dashed', linewidth=5, label='sin(x)')\n",
    "plt.plot(x, z, color='teal', linestyle='', marker='^', label='cos(x)')\n",
    "\n",
    "plt.rcParams['axes.axisbelow'] = True\n",
    "\n",
    "plt.title('Comportamiento Curvas', fontsize=15)\n",
    "plt.ylabel('Magnitud [ad.]', fontsize=13)\n",
    "plt.xlabel('Ángulo [º]', fontsize=13)\n",
    "\n",
    "plt.tick_params(direction='out', length=5, width=0.75, grid_alpha=0.3)\n",
    "plt.xticks(rotation=0)\n",
    "plt.minorticks_on()\n",
    "plt.ylim(None, None)\n",
    "plt.xlim(None, None)\n",
    "plt.grid(True)\n",
    "plt.grid(visible=True, which='major', color='grey', linestyle='-')\n",
    "plt.grid(visible=True, which='minor', color='lightgrey', linestyle='-', alpha=0.2)\n",
    "plt.legend(loc='best', fontsize=11)\n",
    "plt.tight_layout;\n",
    "plt.savefig('./plot.png', dpi=400, bbox_inches='tight') # Descargar la gráfica (se sugiere .png, .pdf o .eps)"
   ]
  },
  {
   "cell_type": "markdown",
   "metadata": {},
   "source": [
    "## 1.6. Gráfica de Barras\n",
    "\n",
    "<div class='alert alert-block alert-info'>   \n",
    "    \n",
    "<i class='fa fa-info-circle' aria-hidden='true'></i>\n",
    "Puede obtener más información en la documentación oficial de la librería `matplotlib.pyplot.bar` dando clic [aquí](https://matplotlib.org/stable/api/_as_gen/matplotlib.pyplot.bar.html).\n",
    "</div>"
   ]
  },
  {
   "cell_type": "code",
   "execution_count": null,
   "metadata": {},
   "outputs": [],
   "source": [
    "import pandas as pd\n",
    "\n",
    "file_name = './data/engines.xlsx' # ./ es pwd()\n",
    "sheet = 'Data'\n",
    "\n",
    "df = pd.read_excel(io=file_name, sheet_name=sheet)\n",
    "\n",
    "df.head()"
   ]
  },
  {
   "cell_type": "markdown",
   "metadata": {},
   "source": [
    "Para realizar una visualización de barras, utilizamos la función `plt.bar`. A diferencia de `plt.plot` y `plt.scatter`, `plt.bar` solo toma **un único** argumento de entrada."
   ]
  },
  {
   "cell_type": "code",
   "execution_count": null,
   "metadata": {},
   "outputs": [],
   "source": [
    "x = df['Engine']\n",
    "y = df['Maximum Brake Horsepower (BHP)']\n",
    "\n",
    "plt.bar(x, y)"
   ]
  },
  {
   "cell_type": "markdown",
   "metadata": {},
   "source": [
    "Para retorcarla, utilizamos las mismas funciones que revisamos antes."
   ]
  },
  {
   "cell_type": "code",
   "execution_count": null,
   "metadata": {},
   "outputs": [],
   "source": [
    "hor = 10\n",
    "ver = 4\n",
    "plt.figure(figsize=(hor, ver))\n",
    "\n",
    "plt.bar(x, y, color='tan', label='Caballos de Potencia')\n",
    "\n",
    "plt.rcParams['axes.axisbelow'] = True\n",
    "\n",
    "plt.title('Comportamiento', fontsize=15)\n",
    "plt.ylabel('Potencia [hp]', fontsize=13)\n",
    "plt.xlabel('Motor', fontsize=13)\n",
    "\n",
    "plt.tick_params(direction='out', length=5, width=0.75, grid_alpha=0.3)\n",
    "plt.xticks(rotation=90)\n",
    "plt.ylim(None, None)\n",
    "plt.xlim(None, None)\n",
    "plt.grid(True)\n",
    "plt.legend(loc='best', bbox_to_anchor=(1,1), fontsize=11)\n",
    "plt.tight_layout;\n",
    "plt.savefig('./bar_ver.png', dpi=400, bbox_inches='tight')"
   ]
  },
  {
   "cell_type": "code",
   "execution_count": null,
   "metadata": {},
   "outputs": [],
   "source": [
    "hor = 4\n",
    "ver = 10\n",
    "plt.figure(figsize=(hor, ver))\n",
    "\n",
    "plt.barh(x, y, color='tan', label='Caballos de Potencia') # Aquí utilizamos plt.barh en lugar de plt.bar\n",
    "\n",
    "plt.rcParams['axes.axisbelow'] = True\n",
    "\n",
    "plt.title('Comportamiento', fontsize=15)\n",
    "plt.ylabel('Potencia [hp]', fontsize=13)\n",
    "plt.xlabel('Motor', fontsize=13)\n",
    "\n",
    "plt.tick_params(direction='out', length=5, width=0.75, grid_alpha=0.3)\n",
    "plt.xticks(rotation=90)\n",
    "plt.ylim(None, None)\n",
    "plt.xlim(None, None)\n",
    "plt.grid(True)\n",
    "plt.legend(loc='best', fontsize=11)\n",
    "plt.tight_layout;\n",
    "plt.savefig('./bar_hor.png', dpi=400, bbox_inches='tight')"
   ]
  },
  {
   "cell_type": "markdown",
   "metadata": {},
   "source": [
    "## 1.7. Gráfica log-log\n",
    "\n",
    "<div class='alert alert-block alert-info'>   \n",
    "    \n",
    "<i class='fa fa-info-circle' aria-hidden='true'></i>\n",
    "Puede obtener más información en la documentación oficial de la librería `matplotlib.pyplot.loglog` dando clic [aquí](https://matplotlib.org/stable/api/_as_gen/matplotlib.pyplot.loglog.html).\n",
    "</div>"
   ]
  },
  {
   "cell_type": "code",
   "execution_count": null,
   "metadata": {},
   "outputs": [],
   "source": [
    "x = df['Mass (Kg)'].to_list()\n",
    "y = df['Maximum Brake Horsepower (BHP)'].to_list()\n",
    "\n",
    "hor = 7\n",
    "ver = 5\n",
    "plt.figure(figsize=(hor, ver))\n",
    "\n",
    "plt.loglog(x, y, color='#1580E4', linewidth=0.5, zorder = 10, linestyle='--', marker='o') # Color con formato HEX\n",
    "\n",
    "plt.rcParams['axes.axisbelow'] = True\n",
    "\n",
    "plt.title('Relación log(BHP) vs. log(Masa)', fontsize=15);\n",
    "plt.ylabel('Potencia, $BHP$', fontsize=13);\n",
    "plt.xlabel('Masa, $Kg$', fontsize=13);\n",
    "\n",
    "plt.tick_params(direction='out', length=5, width=0.75, grid_alpha=0.3)\n",
    "plt.xticks(rotation=0)\n",
    "plt.ylim(None, None)\n",
    "plt.xlim(None, None)\n",
    "plt.grid(True)\n",
    "plt.grid(b=True, which='minor', color='grey', linestyle='--', alpha=0.2)\n",
    "plt.yscale('log') # Note la función plt.yscale\n",
    "plt.tight_layout;\n",
    "plt.savefig('./loglog.png', dpi=400, bbox_inches='tight')"
   ]
  },
  {
   "cell_type": "markdown",
   "metadata": {},
   "source": [
    "## 1.8. Histogramas\n",
    "\n",
    "<div class='alert alert-block alert-info'>   \n",
    "    \n",
    "<i class='fa fa-info-circle' aria-hidden='true'></i>\n",
    "Puede obtener más información en la documentación oficial de la librería `matplotlib.pyplot.hist` dando clic [aquí](https://matplotlib.org/stable/api/_as_gen/matplotlib.pyplot.hist.html).\n",
    "</div>"
   ]
  },
  {
   "cell_type": "code",
   "execution_count": null,
   "metadata": {},
   "outputs": [],
   "source": [
    "mu = 1 # Promedio\n",
    "sigma = 0.5 # Desviación\n",
    "n = 1000 # Número datos\n",
    "\n",
    "data = np.random.normal(mu, sigma, n)\n",
    "type(data)"
   ]
  },
  {
   "cell_type": "code",
   "execution_count": null,
   "metadata": {},
   "outputs": [],
   "source": [
    "plt.hist(data, bins=20);"
   ]
  },
  {
   "cell_type": "code",
   "execution_count": null,
   "metadata": {},
   "outputs": [],
   "source": [
    "x = df['Mass (Kg)']\n",
    "y = df['Maximum Brake Horsepower (BHP)']\n",
    "\n",
    "hor = 7\n",
    "ver = 5\n",
    "plt.figure(figsize=(hor, ver))\n",
    "\n",
    "plt.hist(data, bins=20, color='lightgrey', alpha=1) # Note el parámetro bins\n",
    "\n",
    "plt.rcParams['axes.axisbelow'] = True\n",
    "\n",
    "plt.title('Histograma', fontsize=15);\n",
    "plt.ylabel('Frecuencia', fontsize=13);\n",
    "plt.xlabel('Magnitud', fontsize=13);\n",
    "\n",
    "plt.tick_params(direction='out', length=5, width=0.75, grid_alpha=0.3)\n",
    "plt.xticks(rotation=0)\n",
    "plt.ylim(None, None)\n",
    "plt.xlim(None, None)\n",
    "plt.grid(True)\n",
    "plt.tight_layout;"
   ]
  },
  {
   "cell_type": "code",
   "execution_count": null,
   "metadata": {},
   "outputs": [],
   "source": [
    "x = df['Mass (Kg)']\n",
    "y = df['Maximum Brake Horsepower (BHP)']\n",
    "\n",
    "hor = 7\n",
    "ver = 5\n",
    "plt.figure(figsize=(hor, ver))\n",
    "\n",
    "plt.hist(data, bins=20, color='lightgrey', alpha=1) # Note el parámetro bins\n",
    "\n",
    "plt.axvline(x=mu, color='red', linestyle='--', linewidth=0.75, label=f'Promedio: {mu}') # Promedio\n",
    "plt.axvline(x=mu+sigma, color='dodgerblue', linestyle='--', linewidth=0.75, label=f'$\\mu + \\sigma$: {mu+sigma}') # +Desviación\n",
    "plt.axvline(x=mu-sigma, color='dodgerblue', linestyle='--', linewidth=0.75, label=f'$\\mu - \\sigma$: {mu-sigma}') # -Desviación\n",
    "\n",
    "plt.rcParams['axes.axisbelow'] = True\n",
    "\n",
    "plt.title('Histograma', fontsize=15);\n",
    "plt.ylabel('Frecuencia', fontsize=13);\n",
    "plt.xlabel('Magnitud', fontsize=13);\n",
    "\n",
    "plt.tick_params(direction='out', length=5, width=0.75, grid_alpha=0.3)\n",
    "plt.xticks(rotation=0)\n",
    "plt.ylim(None, None)\n",
    "plt.xlim(None, None)\n",
    "plt.grid(True)\n",
    "plt.legend(loc='best', fontsize=11)\n",
    "plt.tight_layout;\n",
    "plt.savefig('./hist.png', dpi=400, bbox_inches='tight')"
   ]
  }
 ],
 "metadata": {
  "kernelspec": {
   "display_name": "hc",
   "language": "python",
   "name": "hc"
  },
  "language_info": {
   "codemirror_mode": {
    "name": "ipython",
    "version": 3
   },
   "file_extension": ".py",
   "mimetype": "text/x-python",
   "name": "python",
   "nbconvert_exporter": "python",
   "pygments_lexer": "ipython3",
   "version": "3.11.0"
  },
  "toc": {
   "base_numbering": 1,
   "nav_menu": {},
   "number_sections": false,
   "sideBar": true,
   "skip_h1_title": true,
   "title_cell": "Table of Contents",
   "title_sidebar": "Contents",
   "toc_cell": false,
   "toc_position": {},
   "toc_section_display": true,
   "toc_window_display": false
  }
 },
 "nbformat": 4,
 "nbformat_minor": 2
}
