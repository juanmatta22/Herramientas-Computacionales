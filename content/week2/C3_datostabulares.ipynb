{
 "cells": [
  {
   "attachments": {},
   "cell_type": "markdown",
   "metadata": {},
   "source": [
    "# IMEC2001 Herramientas Computacionales \n",
    "## Semana 2: Datos y Visualizaciones\n",
    "### Clase 3: `pandas`\n",
    "\n",
    "Universidad de los Andes — Abril 12, 2023.\n",
    "\n",
    "---\n",
    "\n",
    "## TABLA DE CONTENIDO\n",
    "\n",
    "### Sección 1: Datos Tabulares con `pandas` [→](#section1)\n",
    "- 1.1. Cargar Librerías\n",
    "- 1.2. Series\n",
    "- 1.3. DataFrame\n",
    "- 1.4. Selección y Filtrado\n",
    "- 1.5. Selección con `.loc()`\n",
    "- 1.6. Cargar Datos desde Excel\n",
    "    - 1.6.1. Valores 'Missing'\n",
    "    - 1.6.2. Filtrar Datos    \n",
    "- 1.7. Extraer Año, Mes, Día\n",
    "- 1.8. Reordenar Columnas\n",
    "- 1.9. Datos Únicos con unique()\n",
    "- 1.10. Query\n",
    "- 1.11. Cargar Datos desde CSV\n",
    "- 1.12. Concatenar DataFrames\n",
    "    - 1.12.1. DataFrame de Voltaje DC\n",
    "    - 1.12.2. DataFrame de Corriente DC\n",
    "- 1.13. Descargar Archivo\n",
    "___"
   ]
  },
  {
   "cell_type": "markdown",
   "metadata": {},
   "source": [
    "<a id=\"section1\"></a>\n",
    "# Sección 1: Datos Tabulares con `pandas`"
   ]
  },
  {
   "cell_type": "code",
   "execution_count": null,
   "metadata": {},
   "outputs": [],
   "source": [
    "!pip install pandas"
   ]
  },
  {
   "cell_type": "markdown",
   "metadata": {},
   "source": [
    "## 1.1. Cargar Librerías"
   ]
  },
  {
   "cell_type": "code",
   "execution_count": null,
   "metadata": {},
   "outputs": [],
   "source": [
    "import pandas as pd"
   ]
  },
  {
   "cell_type": "markdown",
   "metadata": {},
   "source": [
    "Notemos que `as pd` es un _alias_ con la que nos referiremos a la librería `pandas`. Este _alias_ puede ser cualquiera, pero por convención utilizaremos `as pd`."
   ]
  },
  {
   "cell_type": "markdown",
   "metadata": {},
   "source": [
    "## 1.2. Series\n",
    "\n",
    "`pandas.Series` (o, en nuestro caso `pd.Series`) es un objeto similar a una lista (i.e., matriz unidimensional) que contiene una secuencia de valores y una lista asociada de etiquetas de datos, denominada **índice**.\n",
    "\n",
    "<div class='alert alert-block alert-info'>   \n",
    "    \n",
    "<i class='fa fa-info-circle' aria-hidden='true'></i>\n",
    "Puede obtener más información en la documentación oficial de la librería `pandas.Series` dando clic [aquí](https://pandas.pydata.org/docs/reference/api/pandas.Series.html).\n",
    "</div>"
   ]
  },
  {
   "cell_type": "code",
   "execution_count": null,
   "metadata": {},
   "outputs": [],
   "source": [
    "lista = [4, 7, -5, 3]\n",
    "lista"
   ]
  },
  {
   "cell_type": "code",
   "execution_count": null,
   "metadata": {},
   "outputs": [],
   "source": [
    "serie = pd.Series(lista)\n",
    "serie"
   ]
  },
  {
   "cell_type": "markdown",
   "metadata": {},
   "source": [
    "¿Cuál es la diferencia entre `lista` y `serie`?\n",
    "\n",
    "Vale, entonces un objeto de tipo `pandas.Series` consiste de valores acompañados de un índice; los podemos extraer así:"
   ]
  },
  {
   "cell_type": "code",
   "execution_count": null,
   "metadata": {},
   "outputs": [],
   "source": [
    "serie.index"
   ]
  },
  {
   "cell_type": "code",
   "execution_count": null,
   "metadata": {},
   "outputs": [],
   "source": [
    "serie.values"
   ]
  },
  {
   "cell_type": "markdown",
   "metadata": {},
   "source": [
    "Esto implica que:\n",
    "> **Los índices permiten identificar cada valor con una etiqueta (i.e., *label*).**"
   ]
  },
  {
   "cell_type": "code",
   "execution_count": null,
   "metadata": {},
   "outputs": [],
   "source": [
    "serie = pd.Series([4, 7, -5, 3], index=['d', 'b', 'a', 'c'])\n",
    "serie.index"
   ]
  },
  {
   "cell_type": "code",
   "execution_count": null,
   "metadata": {},
   "outputs": [],
   "source": [
    "serie"
   ]
  },
  {
   "cell_type": "markdown",
   "metadata": {},
   "source": [
    "Notemos que `pandas.Series` tiene cierta similitud con un `dict()`, pues el índice se asemeja al *key*. Esto también aplica para seleccionar valores, por ejemplo:"
   ]
  },
  {
   "cell_type": "code",
   "execution_count": null,
   "metadata": {},
   "outputs": [],
   "source": [
    "serie['a']"
   ]
  },
  {
   "cell_type": "markdown",
   "metadata": {},
   "source": [
    "Pero mantenemos la indexación por posición como las variables tipo `list()` como lo vimos la semana pasada."
   ]
  },
  {
   "cell_type": "code",
   "execution_count": null,
   "metadata": {},
   "outputs": [],
   "source": [
    "serie[2]"
   ]
  },
  {
   "cell_type": "code",
   "execution_count": null,
   "metadata": {},
   "outputs": [],
   "source": [
    "serie"
   ]
  },
  {
   "cell_type": "markdown",
   "metadata": {},
   "source": [
    "Al igual que las variables tipo `list()`, podemos alterar el objeto `pandas.Series` al aplicar directamente operadores matemáticos."
   ]
  },
  {
   "cell_type": "code",
   "execution_count": null,
   "metadata": {},
   "outputs": [],
   "source": [
    "serie * 2"
   ]
  },
  {
   "cell_type": "code",
   "execution_count": null,
   "metadata": {},
   "outputs": [],
   "source": [
    "serie / 4"
   ]
  },
  {
   "cell_type": "markdown",
   "metadata": {},
   "source": [
    "## 1.3. DataFrame\n",
    "\n",
    "`pandas.DataFrame` representa una tabla rectangular de datos y contiene una colección ordenada de columnas (i.e., **tiene un índice de fila y columna**), cada una de las cuales puede tener un tipo de valor diferente (e.g., `string`, `int`, `bool`).\n",
    "\n",
    "Una de las formas más sencillas y directas de crear un `pandas.DataFrame` es a partir de un `dict()`.\n",
    "\n",
    "<div class='alert alert-block alert-info'>   \n",
    "    \n",
    "<i class='fa fa-info-circle' aria-hidden='true'></i>\n",
    "Puede obtener más información en la documentación oficial de la librería `pandas.DataFrame` dando clic [aquí](https://pandas.pydata.org/docs/reference/api/pandas.DataFrame.html).\n",
    "</div>"
   ]
  },
  {
   "cell_type": "code",
   "execution_count": null,
   "metadata": {},
   "outputs": [],
   "source": [
    "data = {'state': ['Ohio', 'Ohio', 'Ohio', 'Nevada', 'Nevada', 'Nevada'],\n",
    "        'year': [2000, 2001, 2002, 2001, 2002, 2003],\n",
    "        'population': [1.5, 1.7, 3.6, 2.4, 2.9, 3.2]}"
   ]
  },
  {
   "cell_type": "code",
   "execution_count": null,
   "metadata": {},
   "outputs": [],
   "source": [
    "df = pd.DataFrame(data)\n",
    "df"
   ]
  },
  {
   "cell_type": "markdown",
   "metadata": {},
   "source": [
    "La indexación es principalmente por las **columnas** (en este caso: `state`, `year` y `population`) y se realiza igual que con un `dict()` o `pandas.Series`."
   ]
  },
  {
   "cell_type": "code",
   "execution_count": null,
   "metadata": {},
   "outputs": [],
   "source": [
    "df['state']"
   ]
  },
  {
   "cell_type": "markdown",
   "metadata": {},
   "source": [
    "¿Qué detalles podemos ver al ejecutar la celda anterior?"
   ]
  },
  {
   "cell_type": "code",
   "execution_count": null,
   "metadata": {},
   "outputs": [],
   "source": [
    "df = pd.DataFrame(data, index=['one', 'two', 'three', 'four', 'five', 'six'])\n",
    "df"
   ]
  },
  {
   "cell_type": "markdown",
   "metadata": {},
   "source": [
    "Por otra parte, para acceder a los datos por **indexación de filas**, utilizamos la función `.loc()`."
   ]
  },
  {
   "cell_type": "code",
   "execution_count": null,
   "metadata": {},
   "outputs": [],
   "source": [
    "df.loc['three']"
   ]
  },
  {
   "cell_type": "markdown",
   "metadata": {},
   "source": [
    "Ahora bien, para **agregar una columna** al objeto `pandas.DataFrame`, seguimos la siguiente sintaxis:\n",
    "\n",
    "```python\n",
    "df[<name>] = <values>\n",
    "```\n",
    "\n",
    "Notemos que es la misma sintaxis para agregar un elemento a un `dict()`.\n",
    "\n",
    "**¡Importante!:** La cantidad de elementos de la nueva columna **debe** coincidir con las demás columnas. De lo contrario se arroja un error."
   ]
  },
  {
   "cell_type": "code",
   "execution_count": null,
   "metadata": {},
   "outputs": [],
   "source": [
    "debt_values = [-1, -1.2, -1.5, -2, -2.4, -2.7]\n",
    "\n",
    "df['debt'] = debt_values\n",
    "\n",
    "df"
   ]
  },
  {
   "cell_type": "markdown",
   "metadata": {},
   "source": [
    "Finalmente, para eliminar una columna, sigamos la recomendación dada en ***StackOverflow*** ([aquí](https://stackoverflow.com/questions/13411544/delete-a-column-from-a-pandas-dataframe))."
   ]
  },
  {
   "cell_type": "markdown",
   "metadata": {},
   "source": [
    "## 1.4. Selección y Filtrado"
   ]
  },
  {
   "cell_type": "code",
   "execution_count": null,
   "metadata": {},
   "outputs": [],
   "source": [
    "data = {'one': [0, 4, 8, 12],\n",
    "        'two': [1, 5, 9, 13],\n",
    "        'three': [2, 6, 10, 14],\n",
    "        'four': [3, 7, 11, 15]}\n",
    "\n",
    "df = pd.DataFrame(data, index=['Ohio', 'Colorado', 'Utah', 'New York'])\n",
    "\n",
    "df"
   ]
  },
  {
   "cell_type": "code",
   "execution_count": null,
   "metadata": {},
   "outputs": [],
   "source": [
    "df['two']"
   ]
  },
  {
   "cell_type": "code",
   "execution_count": null,
   "metadata": {},
   "outputs": [],
   "source": [
    "df[['three', 'one']]"
   ]
  },
  {
   "cell_type": "markdown",
   "metadata": {},
   "source": [
    "Podemos hacer evaluar condiciones de manera sencilla, y el resultado será un `pandas.DataFrame` con elementos booleanos (`True` o `False`) si se cumple o no dicha condición."
   ]
  },
  {
   "cell_type": "code",
   "execution_count": null,
   "metadata": {},
   "outputs": [],
   "source": [
    "df < 5"
   ]
  },
  {
   "cell_type": "markdown",
   "metadata": {},
   "source": [
    "Con base en las condiciones evaluadas, se pueden asignar valores a aquellos datos que **sí** cumplen con la condición. Es decir, se modifican los valores cuyo resultado sea `True`."
   ]
  },
  {
   "cell_type": "code",
   "execution_count": null,
   "metadata": {},
   "outputs": [],
   "source": [
    "df[df < 5] = 0\n",
    "\n",
    "df"
   ]
  },
  {
   "cell_type": "markdown",
   "metadata": {},
   "source": [
    "## 1.5. Selección con `.loc()`\n",
    "\n",
    "Me filtra la información por indexación en **filas**."
   ]
  },
  {
   "cell_type": "code",
   "execution_count": null,
   "metadata": {},
   "outputs": [],
   "source": [
    "# Por fila\n",
    "df.loc['Colorado']"
   ]
  },
  {
   "cell_type": "markdown",
   "metadata": {},
   "source": [
    "## 1.6. Cargar Datos desde Excel\n",
    "\n",
    "<div class='alert alert-block alert-info'>   \n",
    "    \n",
    "<i class='fa fa-info-circle' aria-hidden='true'></i>\n",
    "Puede obtener más información en la documentación oficial de la librería `pandas.read_excel` dando clic [aquí](https://pandas.pydata.org/docs/reference/api/pandas.read_excel.html).\n",
    "</div>"
   ]
  },
  {
   "cell_type": "code",
   "execution_count": null,
   "metadata": {},
   "outputs": [],
   "source": [
    "file_name = './data/SD_5Min.xlsx' # ./ es pwd()\n",
    "sheet = 'Radiacion'\n",
    "\n",
    "df = pd.read_excel(io=file_name, sheet_name=sheet)\n",
    "\n",
    "rad = df.copy()\n",
    "\n",
    "rad.head()"
   ]
  },
  {
   "cell_type": "code",
   "execution_count": null,
   "metadata": {},
   "outputs": [],
   "source": [
    "print(f'El DataFrame tiene {df.shape[0]} filas y {df.shape[1]} columnas.')"
   ]
  },
  {
   "cell_type": "code",
   "execution_count": null,
   "metadata": {},
   "outputs": [],
   "source": [
    "len(df)"
   ]
  },
  {
   "cell_type": "code",
   "execution_count": null,
   "metadata": {},
   "outputs": [],
   "source": [
    "df.columns"
   ]
  },
  {
   "cell_type": "code",
   "execution_count": null,
   "metadata": {},
   "outputs": [],
   "source": [
    "len(df.columns)"
   ]
  },
  {
   "cell_type": "code",
   "execution_count": null,
   "metadata": {},
   "outputs": [],
   "source": [
    "rad.describe()"
   ]
  },
  {
   "cell_type": "markdown",
   "metadata": {},
   "source": [
    "### 1.6.1. Valores 'Missing'"
   ]
  },
  {
   "cell_type": "code",
   "execution_count": null,
   "metadata": {},
   "outputs": [],
   "source": [
    "encabezados = rad.columns\n",
    "\n",
    "for i in encabezados:\n",
    "    print(i)"
   ]
  },
  {
   "cell_type": "code",
   "execution_count": null,
   "metadata": {},
   "outputs": [],
   "source": [
    "'''\n",
    "Iteramos sobre las columnas del DataFrame 'rad'\n",
    "para verificar la cantidad de datos faltantes\n",
    "'''\n",
    "\n",
    "for i in encabezados:\n",
    "    num_na = rad[i].isna().sum() # Funciónes .isna() y .sum()\n",
    "    print(f'{i} - {num_na}')"
   ]
  },
  {
   "cell_type": "markdown",
   "metadata": {},
   "source": [
    "Detallemos esto un poco más..."
   ]
  },
  {
   "cell_type": "code",
   "execution_count": null,
   "metadata": {},
   "outputs": [],
   "source": [
    "rad['Meteocontrol Irrad (W/m2)'].isna()"
   ]
  },
  {
   "cell_type": "markdown",
   "metadata": {},
   "source": [
    "¿Cómo podríamos asignarle un valor de cero a estos datos cuyo valor es NaN?\n",
    "\n",
    "De nuevo, sigamos la recomendación dada en ***StackOverflow*** ([aquí](https://stackoverflow.com/questions/13295735/how-to-replace-nan-values-by-zeroes-in-a-column-of-a-pandas-dataframe))."
   ]
  },
  {
   "cell_type": "code",
   "execution_count": null,
   "metadata": {},
   "outputs": [],
   "source": []
  },
  {
   "cell_type": "markdown",
   "metadata": {},
   "source": [
    "### 1.6.2. Filtrar Datos\n",
    "\n",
    "\n",
    "Note que la columna **Meteocontrol Irrad** reporta valores mínimos hasta 1. Esto se desea filtrar para reducir el valor mínimo de 1 a 0 si la irradiancia es menor o igual a 1.5 W/m2."
   ]
  },
  {
   "cell_type": "code",
   "execution_count": null,
   "metadata": {},
   "outputs": [],
   "source": [
    "# Sin Filtro\n",
    "rad.head(7)"
   ]
  },
  {
   "cell_type": "code",
   "execution_count": null,
   "metadata": {},
   "outputs": [],
   "source": [
    "# Sin Filtro - Forma 1\n",
    "import time\n",
    "start_time = time.time()\n",
    "\n",
    "new_irrad = []\n",
    "for data in rad['Meteocontrol Irrad (W/m2)']:\n",
    "    if data <= 1.5:\n",
    "        new_irrad.append(0)\n",
    "    else:\n",
    "        new_irrad.append(data)\n",
    "\n",
    "new_irrad\n",
    "\n",
    "print(\"--- %s seconds ---\" % (time.time() - start_time))"
   ]
  },
  {
   "cell_type": "code",
   "execution_count": null,
   "metadata": {},
   "outputs": [],
   "source": [
    "# Con Filtro - Forma 2\n",
    "import time\n",
    "start_time = time.time()\n",
    "\n",
    "rad.loc[rad['Meteocontrol Irrad (W/m2)'] <= 1.5, 'Meteocontrol Irrad (W/m2)'] = 0\n",
    "\n",
    "print(\"--- %s seconds ---\" % (time.time() - start_time))"
   ]
  },
  {
   "cell_type": "code",
   "execution_count": null,
   "metadata": {},
   "outputs": [],
   "source": [
    "rad['Meteocontrol Irrad (W/m2)'].shape"
   ]
  },
  {
   "cell_type": "code",
   "execution_count": null,
   "metadata": {},
   "outputs": [],
   "source": [
    "rad.loc[rad['Meteocontrol Irrad (W/m2)'] <= 1.5]"
   ]
  },
  {
   "cell_type": "markdown",
   "metadata": {},
   "source": [
    "## 1.7. Extraer Año, Mes, Día"
   ]
  },
  {
   "cell_type": "code",
   "execution_count": null,
   "metadata": {},
   "outputs": [],
   "source": [
    "rad.head()"
   ]
  },
  {
   "cell_type": "markdown",
   "metadata": {},
   "source": [
    "¿Cuál es el tipo (i.e., `type()`) de los datos de la columna **Date**?"
   ]
  },
  {
   "cell_type": "code",
   "execution_count": null,
   "metadata": {},
   "outputs": [],
   "source": []
  },
  {
   "cell_type": "markdown",
   "metadata": {},
   "source": [
    "`Timestamp` es un tipo de dato especial para trabajar con fechas. Así, es más sencillo extraer, por ejemplo, el año, mes o día de una fecha específica.\n",
    "\n",
    "<div class='alert alert-block alert-info'>   \n",
    "    \n",
    "<i class='fa fa-info-circle' aria-hidden='true'></i>\n",
    "Puede obtener más información en la documentación oficial de la librería `pandas.Timestamp` dando clic [aquí](https://pandas.pydata.org/docs/reference/api/pandas.Timestamp.html).\n",
    "</div>"
   ]
  },
  {
   "cell_type": "code",
   "execution_count": null,
   "metadata": {},
   "outputs": [],
   "source": [
    "print('{} - {}\\n'.format(rad['Date'][0], type(rad['Date'][0])))\n",
    "print('Año: {}'.format(rad['Date'][0].year))\n",
    "print('Mes: {}'.format(rad['Date'][0].month))\n",
    "print('Día: {}'.format(rad['Date'][0].day))\n",
    "print('Hora: {}'.format(rad['Date'][0].hour))\n",
    "print('Minuto: {}'.format(rad['Date'][0].minute))\n",
    "print('Segundo: {}'.format(rad['Date'][0].second))"
   ]
  },
  {
   "cell_type": "markdown",
   "metadata": {},
   "source": [
    "Con estas funciones, iteremos el DataFrame `rad` para agregar las columnas de Año, Mes y Día."
   ]
  },
  {
   "cell_type": "code",
   "execution_count": null,
   "metadata": {},
   "outputs": [],
   "source": [
    "rad.head()"
   ]
  },
  {
   "cell_type": "code",
   "execution_count": null,
   "metadata": {
    "scrolled": true
   },
   "outputs": [],
   "source": [
    "_año = []\n",
    "\n",
    "for i in rad['Date']:\n",
    "    _año.append(i.year)\n",
    "\n",
    "_año"
   ]
  },
  {
   "cell_type": "code",
   "execution_count": null,
   "metadata": {},
   "outputs": [],
   "source": [
    "rad['Year'] = _año # Creamos la columna 'Year' y asignamos los valores '_año'\n",
    "\n",
    "rad.head()"
   ]
  },
  {
   "cell_type": "markdown",
   "metadata": {},
   "source": [
    "¿Cómo agregaría las columnas de `Mes` y `Día`?"
   ]
  },
  {
   "cell_type": "code",
   "execution_count": null,
   "metadata": {},
   "outputs": [],
   "source": [
    "rad['Month'] = rad['Date'].dt.month\n",
    "rad['Day'] = rad['Date'].dt.day\n",
    "\n",
    "rad.head()"
   ]
  },
  {
   "cell_type": "markdown",
   "metadata": {},
   "source": [
    "## 1.8. Reordenar Columnas\n",
    "\n",
    "Apoyémonos en ***StackOverflow*** ([aquí](https://stackoverflow.com/questions/13148429/how-to-change-the-order-of-dataframe-columns))."
   ]
  },
  {
   "cell_type": "code",
   "execution_count": null,
   "metadata": {},
   "outputs": [],
   "source": [
    "rad.head()"
   ]
  },
  {
   "cell_type": "code",
   "execution_count": null,
   "metadata": {},
   "outputs": [],
   "source": []
  },
  {
   "cell_type": "markdown",
   "metadata": {},
   "source": [
    "## 1.9. Datos Únicos con `unique()`"
   ]
  },
  {
   "cell_type": "code",
   "execution_count": null,
   "metadata": {},
   "outputs": [],
   "source": [
    "rad['Day'].unique()"
   ]
  },
  {
   "cell_type": "markdown",
   "metadata": {},
   "source": [
    "## 1.10. Query"
   ]
  },
  {
   "cell_type": "code",
   "execution_count": null,
   "metadata": {
    "scrolled": true
   },
   "outputs": [],
   "source": [
    "# Solo queremos ver datos para Junio-2021\n",
    "\n",
    "rad[(rad['Year'] == 2021) & (rad['Month'] == 6)]"
   ]
  },
  {
   "cell_type": "code",
   "execution_count": null,
   "metadata": {},
   "outputs": [],
   "source": [
    "# Solo queremos ver datos cuando Meteocontrol Irrad >= 400\n",
    "\n",
    "rad[(rad['Meteocontrol Irrad (W/m2)'] >= 400)].describe()"
   ]
  },
  {
   "cell_type": "code",
   "execution_count": null,
   "metadata": {},
   "outputs": [],
   "source": [
    "# Solo queremos ver datos cuando (Lufft Irrad - Meteocontrol Irrad) <= 100\n",
    "\n",
    "rad[((rad['Lufft Irrad (W/m2)'] - rad['Meteocontrol Irrad (W/m2)']) <= 100)]"
   ]
  },
  {
   "cell_type": "markdown",
   "metadata": {},
   "source": [
    "<div class=\"alert alert-block alert-success\">\n",
    "\n",
    "**BONO**\n",
    "    \n",
    "Cree un `pandas.DataFrame` que contenga datos de:\n",
    "1. Año = 2020\n",
    "2. Mes = Agosto o Septiembre\n",
    "3. Día = 10 o 15\n",
    "4. Meteocontrol Irrad >= 350\n",
    "\n",
    " </div> "
   ]
  },
  {
   "cell_type": "code",
   "execution_count": null,
   "metadata": {},
   "outputs": [],
   "source": [
    "'''\n",
    "Solo queremos ver datos cuando:\n",
    "    1. Año = 2020\n",
    "    2. Mes = Agosto o Septiembre\n",
    "    3. Día = 10 o 15\n",
    "    4. Meteocontrol Irrad >= 350\n",
    "'''\n",
    "query = rad[ (rad['Year'] == 2020) &\n",
    "             ((rad['Month'] == 8) | (rad['Month'] == 9)) &\n",
    "             ((rad['Day'] == 10) | (rad['Month'] == 15)) &\n",
    "             (rad['Meteocontrol Irrad (W/m2)'] >= 350) ]"
   ]
  },
  {
   "cell_type": "code",
   "execution_count": null,
   "metadata": {},
   "outputs": [],
   "source": [
    "# Verifiquemos\n",
    "print(query[\"Year\"].unique())\n",
    "print(query[\"Month\"].unique())\n",
    "print(query[\"Day\"].unique())\n",
    "print(query[\"Meteocontrol Irrad (W/m2)\"].min())"
   ]
  },
  {
   "cell_type": "markdown",
   "metadata": {},
   "source": [
    "Para el caso de datos tabulares en formato CSV, usamos la correspondiente librería (i.e., `CSV`)."
   ]
  },
  {
   "cell_type": "markdown",
   "metadata": {},
   "source": [
    "## 1.11. Cargar Datos desde CSV\n",
    "\n",
    "<div class='alert alert-block alert-info'>   \n",
    "    \n",
    "<i class='fa fa-info-circle' aria-hidden='true'></i>\n",
    "Puede obtener más información en la documentación oficial de la librería `pandas.read_csv` dando clic [aquí](https://pandas.pydata.org/docs/reference/api/pandas.read_csv.html).\n",
    "</div>"
   ]
  },
  {
   "cell_type": "code",
   "execution_count": null,
   "metadata": {},
   "outputs": [],
   "source": [
    "df2 = pd.read_csv(filepath_or_buffer='./data/solar_production.csv', \n",
    "                  sep=';',\n",
    "                  decimal='.')\n",
    "\n",
    "df2.head()"
   ]
  },
  {
   "cell_type": "markdown",
   "metadata": {},
   "source": [
    "## 1.12. Concatenar DataFrames\n",
    "\n",
    "Para realizar la concatenación, tenemos varias opciones:\n",
    "\n",
    "- `innerjoin`: La salida contiene filas para los valores de la clave que existen en los argumentos primero (izquierda) y segundo (derecha) para unir.\n",
    "\n",
    "- `leftjoin`: La salida contiene filas para los valores de la clave que existen en el primer argumento (izquierda) para unir, ya sea que ese valor exista o no en el segundo argumento (derecha).\n",
    "\n",
    "- `rightjoin`: La salida contiene filas para los valores de la clave que existen en el segundo argumento (derecha) para unir, ya sea que ese valor exista o no en el primer argumento (izquierda).\n",
    "\n",
    "- `outerjoin`: La salida contiene filas para los valores de la clave que existen en el primer argumento (izquierda) o segundo (derecha) para unir.\n",
    "\n",
    "<div class='alert alert-block alert-info'>   \n",
    "    \n",
    "<i class='fa fa-info-circle' aria-hidden='true'></i>\n",
    "Puede obtener más información en la documentación oficial de la librería `pandas.DataFrame.merge` dando clic [aquí](https://pandas.pydata.org/docs/reference/api/pandas.DataFrame.merge.html).\n",
    "</div>"
   ]
  },
  {
   "cell_type": "markdown",
   "metadata": {},
   "source": [
    "### 1.12.1. DataFrame de Voltaje DC"
   ]
  },
  {
   "cell_type": "code",
   "execution_count": null,
   "metadata": {},
   "outputs": [],
   "source": [
    "file_name = './data/SD_5Min.xlsx' # ./ es pwd()\n",
    "\n",
    "voltajeDC = pd.read_excel(io=file_name, sheet_name='Tension_DC')\n",
    "\n",
    "voltajeDC.head()"
   ]
  },
  {
   "cell_type": "code",
   "execution_count": null,
   "metadata": {},
   "outputs": [],
   "source": [
    "df3 = pd.merge(df, voltajeDC, on=['Date'])\n",
    "\n",
    "df3.head()"
   ]
  },
  {
   "cell_type": "markdown",
   "metadata": {},
   "source": [
    "### 1.12.2. DataFrame de Corriente DC\n",
    "\n",
    "Cree un DataFrame a partir de importar los datos de corriente DC (hoja `Corriente_DC` en el archivo Excel) y reemplace los datos con tipo `missing` a cero."
   ]
  },
  {
   "cell_type": "code",
   "execution_count": null,
   "metadata": {},
   "outputs": [],
   "source": []
  },
  {
   "cell_type": "markdown",
   "metadata": {},
   "source": [
    "## 1.13. Descargar Archivo\n",
    "\n",
    "<div class='alert alert-block alert-info'>   \n",
    "    \n",
    "<i class='fa fa-info-circle' aria-hidden='true'></i>\n",
    "Puede obtener más información en la documentación oficial de la librería `pandas.DataFrame.to_csv` dando clic [aquí](https://pandas.pydata.org/docs/reference/api/pandas.DataFrame.to_csv.html).\n",
    "</div>"
   ]
  },
  {
   "cell_type": "code",
   "execution_count": null,
   "metadata": {},
   "outputs": [],
   "source": [
    "df.to_csv(path_or_buf='./solar_electrica.csv',  # ./ es pwd()\n",
    "          sep=';',\n",
    "          decimal=',',\n",
    "          header=True, \n",
    "          index=True)"
   ]
  }
 ],
 "metadata": {
  "kernelspec": {
   "display_name": "hc",
   "language": "python",
   "name": "hc"
  },
  "language_info": {
   "codemirror_mode": {
    "name": "ipython",
    "version": 3
   },
   "file_extension": ".py",
   "mimetype": "text/x-python",
   "name": "python",
   "nbconvert_exporter": "python",
   "pygments_lexer": "ipython3",
   "version": "3.11.0"
  },
  "toc": {
   "base_numbering": 1,
   "nav_menu": {},
   "number_sections": false,
   "sideBar": true,
   "skip_h1_title": true,
   "title_cell": "Table of Contents",
   "title_sidebar": "Contents",
   "toc_cell": false,
   "toc_position": {},
   "toc_section_display": true,
   "toc_window_display": false
  }
 },
 "nbformat": 4,
 "nbformat_minor": 2
}
