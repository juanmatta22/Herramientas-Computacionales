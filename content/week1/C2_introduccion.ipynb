{
 "cells": [
  {
   "attachments": {},
   "cell_type": "markdown",
   "metadata": {},
   "source": [
    "# IMEC2001 Herramientas Computacionales\n",
    "## Semana 1: Introducción\n",
    "### Clase 2: Primeros Pasos\n",
    "\n",
    "Universidad de los Andes — Marzo 31, 2023.\n",
    "\n",
    "---\n",
    "\n",
    "## TABLA DE CONTENIDO\n",
    "\n",
    "### Sección 1: Empecemos con Python [→](#section1)\n",
    "- 1.1. Imprimir en Pantalla\n",
    "- 1.2. Asignación de Variables\n",
    "- 1.3. Tipos de Variables\n",
    "- 1.4. Matemática Básica\n",
    "- 1.5. Contenedores\n",
    "    - 1.5.1. Tuples\n",
    "    - 1.5.2. Dictionaries\n",
    "    - 1.5.3. Arrays\n",
    "- 1.6. Iteradores\n",
    "    - 1.6.1. While loop\n",
    "    - 1.6.2. For loop\n",
    "- 1.7. Condicionales y Pruebas *If-Elif-Else*\n",
    "- 1.8. Funciones\n",
    "___"
   ]
  },
  {
   "cell_type": "markdown",
   "metadata": {},
   "source": [
    "<a id=\"section1\"></a>\n",
    "# Sección 1: Empecemos con Python"
   ]
  },
  {
   "cell_type": "markdown",
   "metadata": {},
   "source": [
    "## 1.1. Imprimir en Pantalla\n",
    "Podemos utilizar la función `print()`."
   ]
  },
  {
   "cell_type": "code",
   "execution_count": null,
   "metadata": {
    "scrolled": false
   },
   "outputs": [],
   "source": [
    "print(\"Hello World!\")"
   ]
  },
  {
   "cell_type": "markdown",
   "metadata": {},
   "source": [
    "Si queremos imprimir en pantalla un texto sobre otro..."
   ]
  },
  {
   "cell_type": "code",
   "execution_count": null,
   "metadata": {},
   "outputs": [],
   "source": [
    "print(\"Texto 1\")\n",
    "print(\"Texto 2\")\n",
    "print(\"Texto 3\")"
   ]
  },
  {
   "cell_type": "markdown",
   "metadata": {},
   "source": [
    "También funciona con la **palabra reservada** `\\n`. Veamos qué pasa si agregamos `\\n` al final de `print()`."
   ]
  },
  {
   "cell_type": "code",
   "execution_count": null,
   "metadata": {},
   "outputs": [],
   "source": [
    "print(\"Texto 1\\nTexto 2\\nTexto 3\")"
   ]
  },
  {
   "cell_type": "markdown",
   "metadata": {},
   "source": [
    "Ahora, si quiero imprimir en pantalla una pregunta al usuario:"
   ]
  },
  {
   "cell_type": "code",
   "execution_count": null,
   "metadata": {},
   "outputs": [],
   "source": [
    "print('Hola, ¿Cómo termina la semana, qué tal el viernes?')\n",
    "respuesta = input()\n",
    "\n",
    "print('Oiga, pues', respuesta)"
   ]
  },
  {
   "cell_type": "markdown",
   "metadata": {},
   "source": [
    "Para conocer el tipo de una variable, utilizamos la función `type()`."
   ]
  },
  {
   "cell_type": "code",
   "execution_count": null,
   "metadata": {},
   "outputs": [],
   "source": [
    "type(respuesta)"
   ]
  },
  {
   "cell_type": "markdown",
   "metadata": {},
   "source": [
    "## 1.2. Asignación de Variables"
   ]
  },
  {
   "cell_type": "code",
   "execution_count": null,
   "metadata": {},
   "outputs": [],
   "source": [
    "a = 100\n",
    "print(a)\n",
    "print(   type(a)   )"
   ]
  },
  {
   "cell_type": "code",
   "execution_count": null,
   "metadata": {},
   "outputs": [],
   "source": [
    "A = 5\n",
    "print(A == a)"
   ]
  },
  {
   "cell_type": "code",
   "execution_count": null,
   "metadata": {},
   "outputs": [],
   "source": [
    "# Podemos redefinir una variable\n",
    "x = 100.0\n",
    "print(type(x)) # Tipo inicial"
   ]
  },
  {
   "cell_type": "code",
   "execution_count": null,
   "metadata": {},
   "outputs": [],
   "source": [
    "x = \"Nuevo valor\"\n",
    "print(type(x)) # Tipo nuevo"
   ]
  },
  {
   "cell_type": "markdown",
   "metadata": {},
   "source": [
    "## 1.3. Tipos de Variables"
   ]
  },
  {
   "cell_type": "code",
   "execution_count": null,
   "metadata": {},
   "outputs": [],
   "source": [
    "#Int - Números Enteros\n",
    "variables_int = [1, 2, 3, 4, 5]\n",
    "\n",
    "#String - Texto entre '' o \"\"\n",
    "variables_string = ('Hola', 'Cómo', \"Están\", 'el Día de', \"Hoy?\")\n",
    "\n",
    "#Bool - Booleanas: True o False\n",
    "variables_bool = {'Verdadero':True, 'Falso':False}\n",
    "\n",
    "#Float - Números Reales\n",
    "variables_float = [1/3, 1.5, 5.1]"
   ]
  },
  {
   "cell_type": "markdown",
   "metadata": {},
   "source": [
    "La celda anterior no imprime nada en pantalla, cómo hago para ¿imprimir cada variable?"
   ]
  },
  {
   "cell_type": "code",
   "execution_count": null,
   "metadata": {},
   "outputs": [],
   "source": []
  },
  {
   "cell_type": "markdown",
   "metadata": {},
   "source": [
    "## 1.4. Operaciones Matemáticas"
   ]
  },
  {
   "cell_type": "code",
   "execution_count": null,
   "metadata": {},
   "outputs": [],
   "source": [
    "var1 = 8\n",
    "var2 = 2\n",
    "\n",
    "# Suma (+)\n",
    "print(var1 + var2)\n",
    "\n",
    "# Resta (-)\n",
    "print(var1 - var2)\n",
    "\n",
    "# Producto (*)\n",
    "print(var1 * var2)\n",
    "\n",
    "# División (/)\n",
    "print(var1 / var2)\n",
    "\n",
    "# Potencia (**)\n",
    "print(var1 ** var2)\n",
    "\n",
    "# Módulo (%)\n",
    "print(var1 % var2)"
   ]
  },
  {
   "cell_type": "markdown",
   "metadata": {},
   "source": [
    "Python **mantiene** el orden de operadores. Probémoslo con un ejemplo:\n",
    "\n",
    "> El volumen de una esfera con radio $r$ es $\\frac{4}{3} \\pi r^3$. ¿Cuál es el volumen de una esfera de radio 5?"
   ]
  },
  {
   "cell_type": "code",
   "execution_count": null,
   "metadata": {},
   "outputs": [],
   "source": [
    "(4/3) * 3.14 * (5**3)"
   ]
  },
  {
   "cell_type": "code",
   "execution_count": null,
   "metadata": {},
   "outputs": [],
   "source": [
    "4/3 * 3.14 * 5**3"
   ]
  },
  {
   "attachments": {},
   "cell_type": "markdown",
   "metadata": {},
   "source": [
    "## 1.5. Contenedores\n",
    "\n",
    "Los contenedores permiten almacenar múltiple información en una única variable. Las principales estructuras son:\n",
    "\n",
    "- Listas\n",
    "- Tuples\n",
    "- Dictionaries"
   ]
  },
  {
   "attachments": {},
   "cell_type": "markdown",
   "metadata": {},
   "source": [
    "### 1.5.1. Listas\n",
    "Las **listas** contienen información que sí se puede modificar y son contenedores ordenados. La sintaxis es:\n",
    "\n",
    "```python\n",
    "[item1, item2, ...]\n",
    "```\n",
    "\n",
    "**Importante:** Note que las listas se definen con `[]`."
   ]
  },
  {
   "cell_type": "code",
   "execution_count": null,
   "metadata": {},
   "outputs": [],
   "source": [
    "cursos_IMEC = [\"Introducción\", \"Fundamentos\", \"Dinámica\", \"Sólidos Rígidos\", \"Conversión\"]"
   ]
  },
  {
   "cell_type": "code",
   "execution_count": null,
   "metadata": {},
   "outputs": [],
   "source": [
    "# Index\n",
    "print(cursos_IMEC[3])"
   ]
  },
  {
   "cell_type": "code",
   "execution_count": null,
   "metadata": {},
   "outputs": [],
   "source": [
    "# Modificación -> Cambiar \"Sólidos Rígidos\" => \"Sólidos Deformables\"\n",
    "cursos_IMEC[3] = \"Sólidos Deformables\"\n",
    "\n",
    "print(cursos_IMEC)"
   ]
  },
  {
   "cell_type": "code",
   "execution_count": null,
   "metadata": {},
   "outputs": [],
   "source": [
    "# Agregar\n",
    "cursos_IMEC.append(\"Herramientas Computacionales\")\n",
    "print(cursos_IMEC)"
   ]
  },
  {
   "cell_type": "markdown",
   "metadata": {},
   "source": [
    "**¡Importante!:** Debemos tener cuidado al copiar una lista."
   ]
  },
  {
   "cell_type": "code",
   "execution_count": null,
   "metadata": {},
   "outputs": [],
   "source": [
    "print(\"array1 = array2\")\n",
    "\n",
    "original = [1, 4, 9, 16, 25]\n",
    "print(f\"Original: {original}\")\n",
    "\n",
    "copia = original\n",
    "copia[3] = 1000\n",
    "print(f\"Copia: {copia}\")\n",
    "print(f\"Original: {original}\")\n",
    "print()"
   ]
  },
  {
   "cell_type": "code",
   "execution_count": null,
   "metadata": {},
   "outputs": [],
   "source": [
    "# Pero, al usar la función 'copy()'\n",
    "print(\"FUNCIÓN copy()\")\n",
    "\n",
    "original = [1, 4, 9, 16, 25]\n",
    "print(f\"Original: {original}\")\n",
    "\n",
    "copia = original.copy() # función 'copy()'\n",
    "copia[3] = 1000\n",
    "print(f\"Copia: {copia}\")\n",
    "print(f\"Original: {original}\")"
   ]
  },
  {
   "cell_type": "markdown",
   "metadata": {},
   "source": [
    "### 1.5.2. Tuplas\n",
    "\n",
    "Contenedor que **no** permite modificaciones una vez se define. Su sintaxis es:\n",
    "\n",
    " ```python\n",
    " (item1, item2, ...)\n",
    " ```\n",
    " \n",
    " **Importante:** Note que las listas se definen con `[]` mientras que las tuplas con `()`."
   ]
  },
  {
   "cell_type": "code",
   "execution_count": null,
   "metadata": {},
   "outputs": [],
   "source": [
    "bandeja_paisa = (\"frijol\", \"carne molida\", \"chicharrón\")\n",
    "\n",
    "# Tipo\n",
    "print(type(bandeja_paisa))"
   ]
  },
  {
   "cell_type": "code",
   "execution_count": null,
   "metadata": {},
   "outputs": [],
   "source": [
    "# Index\n",
    "print(bandeja_paisa[2]) # ¡Importante! El conteo de índices inicia desde 0"
   ]
  },
  {
   "cell_type": "code",
   "execution_count": null,
   "metadata": {},
   "outputs": [],
   "source": [
    "# Si intentamos modificarlo...\n",
    "bandeja_paisa[2] = \"chorizo\""
   ]
  },
  {
   "cell_type": "markdown",
   "metadata": {},
   "source": [
    "### 1.5.2. Dictionaries\n",
    "\n",
    "Los **diccionarios** son aprovechables para almacenar información relacionada. Su sintaxis es:\n",
    "\n",
    "```python\n",
    "{llave_1: valor_1, llave_2: valor_2, ...}\n",
    "```\n",
    "\n",
    "**Importante:** Note que los diccionarios se definen con `{}`, y los valores de cada llave se definen después de un `:`."
   ]
  },
  {
   "cell_type": "code",
   "execution_count": null,
   "metadata": {},
   "outputs": [],
   "source": [
    "#Dics {} - Diccionarios Modificables\n",
    "estudiante = {\n",
    "              'Nombre': 'Diomedes',\n",
    "              'Apellido': 'Díaz',\n",
    "              'Fecha_Nacimiento': '26/Mayo/1957',\n",
    "              'Canciones': ['Tú eres la reina', 'Sin medir distancias', 'Cuatro fiestas']\n",
    "             }"
   ]
  },
  {
   "cell_type": "code",
   "execution_count": null,
   "metadata": {},
   "outputs": [],
   "source": [
    "estudiante"
   ]
  },
  {
   "cell_type": "code",
   "execution_count": null,
   "metadata": {},
   "outputs": [],
   "source": [
    "print(estudiante)"
   ]
  },
  {
   "cell_type": "markdown",
   "metadata": {},
   "source": [
    "La indexación en diccionarios es a partir de las **llaves** o *keys*. Se pueden obtener a partir de la función `.keys()`."
   ]
  },
  {
   "cell_type": "code",
   "execution_count": null,
   "metadata": {},
   "outputs": [],
   "source": [
    "estudiante.keys()"
   ]
  },
  {
   "cell_type": "markdown",
   "metadata": {},
   "source": [
    "Los valores de cada llave (o *key*) se obtiene con la función `.values()`."
   ]
  },
  {
   "cell_type": "code",
   "execution_count": null,
   "metadata": {},
   "outputs": [],
   "source": [
    "estudiante.values()"
   ]
  },
  {
   "attachments": {},
   "cell_type": "markdown",
   "metadata": {},
   "source": [
    "Para ver cada conjunto de llave–valor, se utiliza la función `.items()`."
   ]
  },
  {
   "cell_type": "code",
   "execution_count": null,
   "metadata": {},
   "outputs": [],
   "source": [
    "estudiante.items()"
   ]
  },
  {
   "cell_type": "markdown",
   "metadata": {},
   "source": [
    "¿Entonces, si quiero conocer la **fecha de nacimiento** y **segunda canción más exitosa**, cómo lo haría? "
   ]
  },
  {
   "cell_type": "code",
   "execution_count": null,
   "metadata": {},
   "outputs": [],
   "source": [
    "print(estudiante['Fecha_Nacimiento'])\n",
    "print(estudiante['Canciones'][1])"
   ]
  },
  {
   "cell_type": "markdown",
   "metadata": {},
   "source": [
    "## 1.6. Iteradores\n",
    "\n",
    "Se disponen dos iteradores: `While` y `For`."
   ]
  },
  {
   "cell_type": "markdown",
   "metadata": {},
   "source": [
    "### 1.6.1. While Loop\n",
    "El iterador `while` se ejecuta hasta que cierta condición se cumpla; en este momento el iterador se detiene. Es decir, **no sabemos de antemano cuál será el recorrido de la iteración**.\n",
    "\n",
    "Tiene la sintaxis:\n",
    "\n",
    "```python\n",
    "while <condición>:\n",
    "    <algoritmo>\n",
    "```\n",
    "\n",
    "**¡Importante!:** Note el `:` después de la condición."
   ]
  },
  {
   "cell_type": "code",
   "execution_count": null,
   "metadata": {},
   "outputs": [],
   "source": [
    "i = 0\n",
    "\n",
    "while i <= 10:\n",
    "    print(i)\n",
    "    i += 1 # i = i + 1"
   ]
  },
  {
   "cell_type": "markdown",
   "metadata": {},
   "source": [
    "### 1.6.2. For Loop\n",
    "A diferencia del iterador `while`, el iterador `for` se ejecuta sobre un recorrido que especificamos (por lo que sí sabemos de antemano qué ejecutará en cada iteración), y usualmente **es para ejecutar de forma repetitiva un código**.\n",
    "\n",
    "Tiene la sintaxis:\n",
    "\n",
    "```python\n",
    "for <var> in <iteración>:\n",
    "    <algoritmo>\n",
    "```\n",
    "\n",
    "**¡Importante!:** Note el `:` después de la condición."
   ]
  },
  {
   "cell_type": "code",
   "execution_count": null,
   "metadata": {},
   "outputs": [],
   "source": [
    "for i in range(0, 10, 1): # range(first, last, step)\n",
    "    print(i)"
   ]
  },
  {
   "cell_type": "code",
   "execution_count": null,
   "metadata": {},
   "outputs": [],
   "source": [
    "for i in range(0, 10):\n",
    "    print('Hola')"
   ]
  },
  {
   "cell_type": "code",
   "execution_count": null,
   "metadata": {},
   "outputs": [],
   "source": [
    "for i in range(3):\n",
    "    num = int(input('Seleccione un número: '))\n",
    "    print ('El cuadrado de su número es:', num*num)\n",
    "\n",
    "print('La iteración terminó.')"
   ]
  },
  {
   "cell_type": "markdown",
   "metadata": {},
   "source": [
    "También podemos iterar en una lista:"
   ]
  },
  {
   "cell_type": "code",
   "execution_count": null,
   "metadata": {},
   "outputs": [],
   "source": [
    "for estudiante in cursos_IMEC:\n",
    "    print(\"¡Bienvenido a, {}!\".format(estudiante))"
   ]
  },
  {
   "cell_type": "code",
   "execution_count": null,
   "metadata": {},
   "outputs": [],
   "source": [
    "# Si concatenamos los for-loop...\n",
    "for i in cursos_IMEC:\n",
    "    for j in range(0, 10, 2):\n",
    "        print(f\"-> {i}, {j}\")\n",
    "    print() # espacio en blanco"
   ]
  },
  {
   "cell_type": "markdown",
   "metadata": {},
   "source": [
    "Es una convención usar las letras `i`, `j` y `k` para las variables de iteración (`<var>`), a menos que haya una buena razón para darle a la variable un nombre más descriptivo."
   ]
  },
  {
   "cell_type": "markdown",
   "metadata": {},
   "source": [
    "## 1.7. Condicionales y Pruebas *If-Elif-Else*\n",
    "La sintaxis es:\n",
    "\n",
    "```python\n",
    "if <condición 1>:\n",
    "    <opción 1>\n",
    "\n",
    "elif <condición 2>:\n",
    "    <opción 2>\n",
    "    \n",
    "else:\n",
    "    <opción 3>:\n",
    "```\n",
    "\n",
    "Los tipos de condicionales son:\n",
    "\n",
    "*   `<`: Menor a\n",
    "*   `>`: Mayor a\n",
    "*   `<=`: Menor igual a\n",
    "*   `>=`: Mayor igual a\n",
    "*   `==`: Igual a\n",
    "*   `!=`: Diferente a"
   ]
  },
  {
   "cell_type": "code",
   "execution_count": null,
   "metadata": {},
   "outputs": [],
   "source": [
    "puntaje = 81\n",
    "    \n",
    "if puntaje >= 90:\n",
    "    print(\"Sobresaliente\")\n",
    "\n",
    "elif (puntaje < 90) and (puntaje >= 80): # Note la forma en como unimos varias condiciones\n",
    "    print(\"Suficiente\")\n",
    "\n",
    "else:\n",
    "    print(\"Aceptable\")"
   ]
  },
  {
   "cell_type": "markdown",
   "metadata": {},
   "source": [
    "Lo podemos unir con lo que aprendimos anteriormente. Por ejemplo, una calculadora de operaciones matemáticas básicas:"
   ]
  },
  {
   "cell_type": "code",
   "execution_count": null,
   "metadata": {},
   "outputs": [],
   "source": [
    "num1 = input('Seleccione un número: ')\n",
    "num2 = input('Seleccione otro número: ')\n",
    "oper = input('Seleccione una operación: ')"
   ]
  },
  {
   "cell_type": "markdown",
   "metadata": {},
   "source": [
    "Primero fijémonos en el tipo de variable (`type()`) que obtenemos con la función `input()`."
   ]
  },
  {
   "cell_type": "code",
   "execution_count": null,
   "metadata": {},
   "outputs": [],
   "source": [
    "print( type(num1) )\n",
    "\n",
    "print( type(num2) )\n",
    "\n",
    "print( type(oper) )"
   ]
  },
  {
   "cell_type": "markdown",
   "metadata": {},
   "source": [
    "Todas las variables son de tipo `str`. ¿Podemos sumar los números?"
   ]
  },
  {
   "cell_type": "code",
   "execution_count": null,
   "metadata": {},
   "outputs": [],
   "source": [
    "num1 + num2"
   ]
  },
  {
   "cell_type": "markdown",
   "metadata": {},
   "source": [
    "¿Qué pasó?"
   ]
  },
  {
   "cell_type": "markdown",
   "metadata": {},
   "source": [
    "Para convertir estas variables tipo `str` a `int` basta con utilizar la función `int()`.\n",
    "\n",
    "**¡Importante!:** Note que la diferencia entre el tipo de variable `int` y la función `int()`, es que la última tiene y utiliza los paréntesis."
   ]
  },
  {
   "cell_type": "code",
   "execution_count": null,
   "metadata": {},
   "outputs": [],
   "source": [
    "int(num1) + int(num2)"
   ]
  },
  {
   "cell_type": "code",
   "execution_count": null,
   "metadata": {},
   "outputs": [],
   "source": [
    "#Operación Condicional\n",
    "if oper == '+':\n",
    "    suma = int(num1) + int(num2)\n",
    "    print('La suma es: ', suma)\n",
    "\n",
    "elif oper == '-':\n",
    "    resta = int(num1) - int(num2)\n",
    "    print('La resta es: ', suma)\n",
    "    \n",
    "elif oper == '/':\n",
    "    if int(num2) == 0:\n",
    "        print('¡No se puede dividir entre 0!')\n",
    "    else:\n",
    "        divis = int(num1) / int(num2)\n",
    "        print('La división es: ', divis)\n",
    "    \n",
    "elif oper == '*':\n",
    "    multip = int(num1) * int(num2)\n",
    "    print('La multiplicación es: ', multip)\n",
    "\n",
    "else:\n",
    "    print('ERROR: No seleccionó un operador correcto.')"
   ]
  },
  {
   "cell_type": "markdown",
   "metadata": {},
   "source": [
    "## 1.8. Funciones\n",
    "Las funciones son útiles si el mismo código se utiliza en varios lugares diferentes. La facilidad de una función es que una vez creada (es decir, definir ese código que se utiliza varias veces en una función), tan solo basta con **llamar a la función cuando quiera ejecutar ese código**.\n",
    "\n",
    "La sintaxis es:\n",
    "\n",
    "```python\n",
    "def <nombre>(<parámetros>):\n",
    "    <algoritmo>\n",
    "    return <resultado>\n",
    "```"
   ]
  },
  {
   "cell_type": "code",
   "execution_count": null,
   "metadata": {},
   "outputs": [],
   "source": [
    "num1 = input()\n",
    "num2 = input()"
   ]
  },
  {
   "cell_type": "code",
   "execution_count": null,
   "metadata": {},
   "outputs": [],
   "source": [
    "def suma(num1, num2):\n",
    "    print('La suma es:', int(num1)+int(num2))"
   ]
  },
  {
   "cell_type": "code",
   "execution_count": null,
   "metadata": {},
   "outputs": [],
   "source": [
    "suma(num1, num2)"
   ]
  },
  {
   "cell_type": "markdown",
   "metadata": {},
   "source": [
    "¿Cómo crearíamos una función que me realice la división?"
   ]
  },
  {
   "cell_type": "code",
   "execution_count": null,
   "metadata": {},
   "outputs": [],
   "source": [
    "def division(num1, num2):\n",
    "    if int(num2) == 0:\n",
    "        print('¡No se puede dividir entre 0!')\n",
    "\n",
    "    else:\n",
    "        divis = int(num1) / int(num2)\n",
    "        print('La división es:', divis)\n",
    "\n",
    "    return divis"
   ]
  },
  {
   "cell_type": "code",
   "execution_count": null,
   "metadata": {},
   "outputs": [],
   "source": [
    "division(num1=1, num2=2)"
   ]
  }
 ],
 "metadata": {
  "kernelspec": {
   "display_name": "hc",
   "language": "python",
   "name": "python3"
  },
  "language_info": {
   "codemirror_mode": {
    "name": "ipython",
    "version": 3
   },
   "file_extension": ".py",
   "mimetype": "text/x-python",
   "name": "python",
   "nbconvert_exporter": "python",
   "pygments_lexer": "ipython3",
   "version": "3.11.0"
  },
  "toc": {
   "base_numbering": 1,
   "nav_menu": {},
   "number_sections": false,
   "sideBar": true,
   "skip_h1_title": true,
   "title_cell": "Table of Contents",
   "title_sidebar": "Contents",
   "toc_cell": false,
   "toc_position": {},
   "toc_section_display": true,
   "toc_window_display": false
  }
 },
 "nbformat": 4,
 "nbformat_minor": 2
}
